{
  "nbformat": 4,
  "nbformat_minor": 0,
  "metadata": {
    "colab": {
      "provenance": [],
      "gpuType": "V28",
      "mount_file_id": "18HOWgIhnLbXBAnOH_JIoBZNomr9cBpgA",
      "authorship_tag": "ABX9TyO+uHY0Qid7H5Key7tgTie7",
      "include_colab_link": true
    },
    "kernelspec": {
      "name": "python3",
      "display_name": "Python 3"
    },
    "language_info": {
      "name": "python"
    },
    "accelerator": "TPU"
  },
  "cells": [
    {
      "cell_type": "markdown",
      "metadata": {
        "id": "view-in-github",
        "colab_type": "text"
      },
      "source": [
        "<a href=\"https://colab.research.google.com/github/Mkr-mayank/CNN/blob/main/Prediction_Using_Efficientnet.ipynb\" target=\"_parent\"><img src=\"https://colab.research.google.com/assets/colab-badge.svg\" alt=\"Open In Colab\"/></a>"
      ]
    },
    {
      "cell_type": "code",
      "execution_count": 1,
      "metadata": {
        "id": "kTaVfaujE7Ie"
      },
      "outputs": [],
      "source": [
        "import tensorflow as tf\n",
        "from tensorflow.keras import layers, models\n",
        "from tensorflow.keras.applications import EfficientNetB0\n",
        "import matplotlib.pyplot as plt\n",
        "import numpy as np\n",
        "from google.colab import drive\n",
        "import os\n",
        "from tensorflow.keras.preprocessing.image import ImageDataGenerator"
      ]
    },
    {
      "cell_type": "code",
      "source": [
        "dataset_path='/content/drive/MyDrive/Dataset4'\n",
        "IMG_SIZE=224\n",
        "BATCH_SIZE=32"
      ],
      "metadata": {
        "id": "kJjIfmndFn1Y"
      },
      "execution_count": 2,
      "outputs": []
    },
    {
      "cell_type": "code",
      "source": [
        "datagen = ImageDataGenerator(rescale=1./255, validation_split=0.2)\n",
        "\n",
        "train_gen = datagen.flow_from_directory(\n",
        "    dataset_path,\n",
        "    target_size=(IMG_SIZE, IMG_SIZE),\n",
        "    batch_size=32,\n",
        "    class_mode='sparse',\n",
        "    subset='training'\n",
        ")\n",
        "\n",
        "val_gen = datagen.flow_from_directory(\n",
        "    dataset_path,\n",
        "    target_size=(IMG_SIZE, IMG_SIZE),\n",
        "    batch_size=32,\n",
        "    class_mode='sparse',\n",
        "    subset='validation'\n",
        ")"
      ],
      "metadata": {
        "id": "9ruEASxkFwcg",
        "colab": {
          "base_uri": "https://localhost:8080/"
        },
        "outputId": "a15efa0c-78a4-4e9a-b28a-97eaef212695"
      },
      "execution_count": 3,
      "outputs": [
        {
          "output_type": "stream",
          "name": "stdout",
          "text": [
            "Found 21757 images belonging to 10 classes.\n",
            "Found 5434 images belonging to 10 classes.\n"
          ]
        }
      ]
    },
    {
      "cell_type": "code",
      "source": [
        "base_model = EfficientNetB0(input_shape=(IMG_SIZE, IMG_SIZE, 3), include_top=False, weights='imagenet')\n",
        "base_model.trainable = False\n",
        "\n",
        "model = models.Sequential([\n",
        "    base_model,\n",
        "    layers.GlobalAveragePooling2D(),\n",
        "    layers.Dense(128, activation='relu'),\n",
        "    layers.BatchNormalization(),\n",
        "    layers.Dropout(0.25),\n",
        "    layers.Dense(128, activation='relu'),\n",
        "    layers.BatchNormalization(),\n",
        "    layers.Dropout(0.25),\n",
        "    layers.Dense(64, activation='relu'),\n",
        "    layers.BatchNormalization(),\n",
        "    layers.Dropout(0.25),\n",
        "    layers.Dense(100, activation='softmax')  # Adjust this based on your dataset's number of classes\n",
        "])"
      ],
      "metadata": {
        "colab": {
          "base_uri": "https://localhost:8080/"
        },
        "id": "OUj5X7gUFz75",
        "outputId": "f451d875-2d0c-4929-c62d-841b45d8f007"
      },
      "execution_count": 4,
      "outputs": [
        {
          "output_type": "stream",
          "name": "stdout",
          "text": [
            "Downloading data from https://storage.googleapis.com/keras-applications/efficientnetb0_notop.h5\n",
            "16705208/16705208 [==============================] - 0s 0us/step\n"
          ]
        }
      ]
    },
    {
      "cell_type": "code",
      "source": [
        "model.compile(optimizer='adam',\n",
        "              loss='sparse_categorical_crossentropy',\n",
        "              metrics=['accuracy'])"
      ],
      "metadata": {
        "id": "oqpHxLw2F22n"
      },
      "execution_count": 5,
      "outputs": []
    },
    {
      "cell_type": "code",
      "source": [
        "history = model.fit(train_gen, validation_data=val_gen, epochs=20)"
      ],
      "metadata": {
        "colab": {
          "base_uri": "https://localhost:8080/"
        },
        "id": "W3SyfvO9F5md",
        "outputId": "8139510a-e055-4223-baaf-bc537d71ed6b"
      },
      "execution_count": null,
      "outputs": [
        {
          "output_type": "stream",
          "name": "stdout",
          "text": [
            "Epoch 1/20\n",
            "680/680 [==============================] - 347s 509ms/step - loss: 1.9699 - accuracy: 0.3194 - val_loss: 2.1639 - val_accuracy: 0.2933\n",
            "Epoch 2/20\n",
            "680/680 [==============================] - 339s 499ms/step - loss: 1.9397 - accuracy: 0.3254 - val_loss: 5.4195 - val_accuracy: 0.2933\n",
            "Epoch 3/20\n",
            "680/680 [==============================] - 339s 499ms/step - loss: 1.9187 - accuracy: 0.3321 - val_loss: 2.1459 - val_accuracy: 0.2882\n",
            "Epoch 4/20\n",
            "680/680 [==============================] - 339s 499ms/step - loss: 1.8979 - accuracy: 0.3378 - val_loss: 2.2860 - val_accuracy: 0.3042\n",
            "Epoch 5/20\n",
            "680/680 [==============================] - 341s 501ms/step - loss: 1.8756 - accuracy: 0.3458 - val_loss: 2.2551 - val_accuracy: 0.1654\n",
            "Epoch 6/20\n",
            "680/680 [==============================] - 341s 501ms/step - loss: 1.8524 - accuracy: 0.3514 - val_loss: 3.7393 - val_accuracy: 0.2933\n",
            "Epoch 7/20\n",
            "680/680 [==============================] - 341s 500ms/step - loss: 1.8482 - accuracy: 0.3548 - val_loss: 2.2678 - val_accuracy: 0.2968\n",
            "Epoch 8/20\n",
            "680/680 [==============================] - 341s 502ms/step - loss: 1.8400 - accuracy: 0.3524 - val_loss: 2.0780 - val_accuracy: 0.2332\n",
            "Epoch 9/20\n",
            "680/680 [==============================] - 339s 499ms/step - loss: 1.8269 - accuracy: 0.3571 - val_loss: 8.0782 - val_accuracy: 0.1619\n",
            "Epoch 10/20\n",
            "147/680 [=====>........................] - ETA: 3:36 - loss: 1.8397 - accuracy: 0.3548"
          ]
        }
      ]
    },
    {
      "cell_type": "code",
      "source": [
        "loss, accuracy = model.evaluate(val_gen)\n",
        "print(f'Validation accuracy: {accuracy*100:.2f}%')"
      ],
      "metadata": {
        "id": "j881ChEIF9uz",
        "colab": {
          "base_uri": "https://localhost:8080/"
        },
        "outputId": "a43724a7-b09c-4cb7-87d2-c853e2cab987"
      },
      "execution_count": 7,
      "outputs": [
        {
          "output_type": "stream",
          "name": "stdout",
          "text": [
            "170/170 [==============================] - 64s 372ms/step - loss: 2.7868 - accuracy: 0.1222\n",
            "Validation accuracy: 12.22%\n"
          ]
        }
      ]
    },
    {
      "cell_type": "code",
      "source": [],
      "metadata": {
        "id": "IoH0QhWfrUQB"
      },
      "execution_count": null,
      "outputs": []
    }
  ]
}